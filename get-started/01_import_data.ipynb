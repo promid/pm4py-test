{
 "cells": [
  {
   "cell_type": "code",
   "execution_count": 3,
   "metadata": {
    "collapsed": true,
    "ExecuteTime": {
     "end_time": "2023-10-09T06:02:20.568518Z",
     "start_time": "2023-10-09T06:02:20.554056Z"
    }
   },
   "outputs": [],
   "source": [
    "import pm4py\n",
    "import pandas"
   ]
  },
  {
   "cell_type": "markdown",
   "source": [
    "any process mining algorithm implemented in PM4Py, using an event log as an input,\n",
    "can work directly with a pandas file!"
   ],
   "metadata": {
    "collapsed": false
   }
  },
  {
   "cell_type": "code",
   "execution_count": 4,
   "outputs": [
    {
     "name": "stdout",
     "output_type": "stream",
     "text": [
      "Number of events: 42\n",
      "Number of cases: 6\n"
     ]
    }
   ],
   "source": [
    "def import_csv(file_path):\n",
    "    event_log = pandas.read_csv(file_path, sep=';')\n",
    "    num_events = len(event_log)\n",
    "    num_cases = len(event_log.case_id.unique())\n",
    "    print(\"Number of events: {}\\nNumber of cases: {}\".format(num_events, num_cases))\n",
    "\n",
    "\n",
    "import_csv(\"../data/running-example.csv\")"
   ],
   "metadata": {
    "collapsed": false,
    "ExecuteTime": {
     "end_time": "2023-10-09T06:02:22.974008Z",
     "start_time": "2023-10-09T06:02:22.955213Z"
    }
   }
  },
  {
   "cell_type": "code",
   "execution_count": 5,
   "outputs": [
    {
     "name": "stdout",
     "output_type": "stream",
     "text": [
      "start_activities: {'register request': 6}, end_activities: {'reject request': 3, 'pay compensation': 3}\n",
      "log:\n",
      "    case_id            activity                 timestamp  costs resource  \\\n",
      "0         1    register request 2010-12-30 10:02:00+00:00     50     Pete   \n",
      "1         1  examine thoroughly 2010-12-31 09:06:00+00:00    400      Sue   \n",
      "2         1        check ticket 2011-01-05 14:12:00+00:00    100     Mike   \n",
      "3         1              decide 2011-01-06 10:18:00+00:00    200     Sara   \n",
      "4         1      reject request 2011-01-07 13:24:00+00:00    200     Pete   \n",
      "5         2    register request 2010-12-30 10:32:00+00:00     50     Mike   \n",
      "6         2        check ticket 2010-12-30 11:12:00+00:00    100     Mike   \n",
      "7         2    examine casually 2010-12-30 13:16:00+00:00    400     Sean   \n",
      "8         2              decide 2011-01-05 10:22:00+00:00    200     Sara   \n",
      "9         2    pay compensation 2011-01-08 11:05:00+00:00    200    Ellen   \n",
      "10        3    register request 2010-12-30 13:32:00+00:00     50     Pete   \n",
      "11        3    examine casually 2010-12-30 14:06:00+00:00    400     Mike   \n",
      "12        3        check ticket 2010-12-30 15:34:00+00:00    100    Ellen   \n",
      "13        3              decide 2011-01-06 08:18:00+00:00    200     Sara   \n",
      "14        3  reinitiate request 2011-01-06 11:18:00+00:00    200     Sara   \n",
      "15        3  examine thoroughly 2011-01-06 12:06:00+00:00    400     Sean   \n",
      "16        3        check ticket 2011-01-08 10:43:00+00:00    100     Pete   \n",
      "17        3              decide 2011-01-09 08:55:00+00:00    200     Sara   \n",
      "18        3    pay compensation 2011-01-15 09:45:00+00:00    200    Ellen   \n",
      "19        4    register request 2011-01-06 14:02:00+00:00     50     Pete   \n",
      "20        4        check ticket 2011-01-07 11:06:00+00:00    100     Mike   \n",
      "21        4  examine thoroughly 2011-01-08 13:43:00+00:00    400     Sean   \n",
      "22        4              decide 2011-01-09 11:02:00+00:00    200     Sara   \n",
      "23        4      reject request 2011-01-12 14:44:00+00:00    200    Ellen   \n",
      "24        5    register request 2011-01-06 08:02:00+00:00     50    Ellen   \n",
      "25        5    examine casually 2011-01-07 09:16:00+00:00    400     Mike   \n",
      "26        5        check ticket 2011-01-08 10:22:00+00:00    100     Pete   \n",
      "27        5              decide 2011-01-10 12:28:00+00:00    200     Sara   \n",
      "28        5  reinitiate request 2011-01-11 15:18:00+00:00    200     Sara   \n",
      "29        5        check ticket 2011-01-14 13:33:00+00:00    100    Ellen   \n",
      "30        5    examine casually 2011-01-16 14:50:00+00:00    400     Mike   \n",
      "31        5              decide 2011-01-19 10:18:00+00:00    200     Sara   \n",
      "32        5  reinitiate request 2011-01-20 11:48:00+00:00    200     Sara   \n",
      "33        5    examine casually 2011-01-21 08:06:00+00:00    400      Sue   \n",
      "34        5        check ticket 2011-01-21 10:34:00+00:00    100     Pete   \n",
      "35        5              decide 2011-01-23 12:12:00+00:00    200     Sara   \n",
      "36        5      reject request 2011-01-24 13:56:00+00:00    200     Mike   \n",
      "37        6    register request 2011-01-06 14:02:00+00:00     50     Mike   \n",
      "38        6    examine casually 2011-01-06 15:06:00+00:00    400    Ellen   \n",
      "39        6        check ticket 2011-01-07 15:22:00+00:00    100     Mike   \n",
      "40        6              decide 2011-01-07 15:52:00+00:00    200     Sara   \n",
      "41        6    pay compensation 2011-01-16 10:47:00+00:00    200     Mike   \n",
      "\n",
      "   case:concept:name        concept:name            time:timestamp  @@index  \\\n",
      "0                  1    register request 2010-12-30 10:02:00+00:00        0   \n",
      "1                  1  examine thoroughly 2010-12-31 09:06:00+00:00        1   \n",
      "2                  1        check ticket 2011-01-05 14:12:00+00:00        2   \n",
      "3                  1              decide 2011-01-06 10:18:00+00:00        3   \n",
      "4                  1      reject request 2011-01-07 13:24:00+00:00        4   \n",
      "5                  2    register request 2010-12-30 10:32:00+00:00        5   \n",
      "6                  2        check ticket 2010-12-30 11:12:00+00:00        6   \n",
      "7                  2    examine casually 2010-12-30 13:16:00+00:00        7   \n",
      "8                  2              decide 2011-01-05 10:22:00+00:00        8   \n",
      "9                  2    pay compensation 2011-01-08 11:05:00+00:00        9   \n",
      "10                 3    register request 2010-12-30 13:32:00+00:00       10   \n",
      "11                 3    examine casually 2010-12-30 14:06:00+00:00       11   \n",
      "12                 3        check ticket 2010-12-30 15:34:00+00:00       12   \n",
      "13                 3              decide 2011-01-06 08:18:00+00:00       13   \n",
      "14                 3  reinitiate request 2011-01-06 11:18:00+00:00       14   \n",
      "15                 3  examine thoroughly 2011-01-06 12:06:00+00:00       15   \n",
      "16                 3        check ticket 2011-01-08 10:43:00+00:00       16   \n",
      "17                 3              decide 2011-01-09 08:55:00+00:00       17   \n",
      "18                 3    pay compensation 2011-01-15 09:45:00+00:00       18   \n",
      "19                 4    register request 2011-01-06 14:02:00+00:00       19   \n",
      "20                 4        check ticket 2011-01-07 11:06:00+00:00       20   \n",
      "21                 4  examine thoroughly 2011-01-08 13:43:00+00:00       21   \n",
      "22                 4              decide 2011-01-09 11:02:00+00:00       22   \n",
      "23                 4      reject request 2011-01-12 14:44:00+00:00       23   \n",
      "24                 5    register request 2011-01-06 08:02:00+00:00       24   \n",
      "25                 5    examine casually 2011-01-07 09:16:00+00:00       25   \n",
      "26                 5        check ticket 2011-01-08 10:22:00+00:00       26   \n",
      "27                 5              decide 2011-01-10 12:28:00+00:00       27   \n",
      "28                 5  reinitiate request 2011-01-11 15:18:00+00:00       28   \n",
      "29                 5        check ticket 2011-01-14 13:33:00+00:00       29   \n",
      "30                 5    examine casually 2011-01-16 14:50:00+00:00       30   \n",
      "31                 5              decide 2011-01-19 10:18:00+00:00       31   \n",
      "32                 5  reinitiate request 2011-01-20 11:48:00+00:00       32   \n",
      "33                 5    examine casually 2011-01-21 08:06:00+00:00       33   \n",
      "34                 5        check ticket 2011-01-21 10:34:00+00:00       34   \n",
      "35                 5              decide 2011-01-23 12:12:00+00:00       35   \n",
      "36                 5      reject request 2011-01-24 13:56:00+00:00       36   \n",
      "37                 6    register request 2011-01-06 14:02:00+00:00       37   \n",
      "38                 6    examine casually 2011-01-06 15:06:00+00:00       38   \n",
      "39                 6        check ticket 2011-01-07 15:22:00+00:00       39   \n",
      "40                 6              decide 2011-01-07 15:52:00+00:00       40   \n",
      "41                 6    pay compensation 2011-01-16 10:47:00+00:00       41   \n",
      "\n",
      "    @@case_index  \n",
      "0              0  \n",
      "1              0  \n",
      "2              0  \n",
      "3              0  \n",
      "4              0  \n",
      "5              1  \n",
      "6              1  \n",
      "7              1  \n",
      "8              1  \n",
      "9              1  \n",
      "10             2  \n",
      "11             2  \n",
      "12             2  \n",
      "13             2  \n",
      "14             2  \n",
      "15             2  \n",
      "16             2  \n",
      "17             2  \n",
      "18             2  \n",
      "19             3  \n",
      "20             3  \n",
      "21             3  \n",
      "22             3  \n",
      "23             3  \n",
      "24             4  \n",
      "25             4  \n",
      "26             4  \n",
      "27             4  \n",
      "28             4  \n",
      "29             4  \n",
      "30             4  \n",
      "31             4  \n",
      "32             4  \n",
      "33             4  \n",
      "34             4  \n",
      "35             4  \n",
      "36             4  \n",
      "37             5  \n",
      "38             5  \n",
      "39             5  \n",
      "40             5  \n",
      "41             5  \n"
     ]
    },
    {
     "name": "stderr",
     "output_type": "stream",
     "text": [
      "/var/folders/pk/87dkb23952xcqmzv72hfm3s40000gn/T/ipykernel_54588/2616908570.py:3: DeprecatedWarning: format_dataframe is deprecated as of 2.3.0 and will be removed in 3.0.0. the format_dataframe function does not need application anymore.\n",
      "  log = pm4py.format_dataframe(log, case_id='case_id', activity_key='activity', timestamp_key='timestamp', timest_format='%Y-%m-%d %H:%M:%S%z')\n"
     ]
    }
   ],
   "source": [
    "def import_csv2(filename):\n",
    "    log = pandas.read_csv(filename, sep=';')\n",
    "    log = pm4py.format_dataframe(log, case_id='case_id', activity_key='activity', timestamp_key='timestamp',\n",
    "                                 timest_format='%Y-%m-%d %H:%M:%S%z')\n",
    "    start_activities = pm4py.get_start_activities(log)\n",
    "    end_activities = pm4py.get_end_activities(log)\n",
    "    print(\"start_activities: {}, end_activities: {}\".format(start_activities, end_activities))\n",
    "    print(\"log:\\n{}\".format(log))\n",
    "\n",
    "\n",
    "import_csv2(\"../data/running-example.csv\")"
   ],
   "metadata": {
    "collapsed": false,
    "ExecuteTime": {
     "end_time": "2023-10-09T06:02:23.675217Z",
     "start_time": "2023-10-09T06:02:23.636692Z"
    }
   }
  },
  {
   "cell_type": "code",
   "execution_count": 6,
   "outputs": [
    {
     "name": "stderr",
     "output_type": "stream",
     "text": [
      "/Users/bedong/Workspaces/GitHub/pm4py-test/venv/lib/python3.10/site-packages/pm4py/util/dt_parsing/parser.py:76: UserWarning: ISO8601 strings are not fully supported with strpfromiso for Python versions below 3.11\n",
      "  warnings.warn(\n"
     ]
    },
    {
     "data": {
      "text/plain": "parsing log, completed traces ::   0%|          | 0/6 [00:00<?, ?it/s]",
      "application/vnd.jupyter.widget-view+json": {
       "version_major": 2,
       "version_minor": 0,
       "model_id": "982282626da143668c839b862c607524"
      }
     },
     "metadata": {},
     "output_type": "display_data"
    },
    {
     "name": "stdout",
     "output_type": "stream",
     "text": [
      "start_activities: {'register request': 6}, end_activities: {'reject request': 3, 'pay compensation': 3}\n"
     ]
    },
    {
     "name": "stderr",
     "output_type": "stream",
     "text": [
      "/Users/bedong/Workspaces/GitHub/pm4py-test/venv/lib/python3.10/site-packages/pm4py/objects/log/util/dataframe_utils.py:176: UserWarning: Could not infer format, so each element will be parsed individually, falling back to `dateutil`. To ensure parsing is consistent and as-expected, please specify a format.\n",
      "  df[col] = pd.to_datetime(df[col], utc=True)\n",
      "/Users/bedong/Workspaces/GitHub/pm4py-test/venv/lib/python3.10/site-packages/pm4py/objects/log/util/dataframe_utils.py:176: UserWarning: Could not infer format, so each element will be parsed individually, falling back to `dateutil`. To ensure parsing is consistent and as-expected, please specify a format.\n",
      "  df[col] = pd.to_datetime(df[col], utc=True)\n",
      "/Users/bedong/Workspaces/GitHub/pm4py-test/venv/lib/python3.10/site-packages/pm4py/objects/log/util/dataframe_utils.py:176: UserWarning: Could not infer format, so each element will be parsed individually, falling back to `dateutil`. To ensure parsing is consistent and as-expected, please specify a format.\n",
      "  df[col] = pd.to_datetime(df[col], utc=True)\n"
     ]
    }
   ],
   "source": [
    "def import_xes(filename):\n",
    "    log = pm4py.read_xes(filename)\n",
    "    start_activities = pm4py.get_start_activities(log)\n",
    "    end_activities = pm4py.get_end_activities(log)\n",
    "    print(f'start_activities: {start_activities}, end_activities: {end_activities}')\n",
    "\n",
    "\n",
    "import_xes(\"../data/running-example.xes\")"
   ],
   "metadata": {
    "collapsed": false,
    "ExecuteTime": {
     "end_time": "2023-10-09T06:02:24.621265Z",
     "start_time": "2023-10-09T06:02:24.484784Z"
    }
   }
  },
  {
   "cell_type": "code",
   "execution_count": 9,
   "outputs": [
    {
     "data": {
      "text/plain": "parsing log, completed traces ::   0%|          | 0/6 [00:00<?, ?it/s]",
      "application/vnd.jupyter.widget-view+json": {
       "version_major": 2,
       "version_minor": 0,
       "model_id": "0decb1e9f3d94925ba27e6ca3ddfd23d"
      }
     },
     "metadata": {},
     "output_type": "display_data"
    },
    {
     "name": "stdout",
     "output_type": "stream",
     "text": [
      "<class 'pandas.core.frame.DataFrame'>\n",
      "RangeIndex: 42 entries, 0 to 41\n",
      "Data columns (total 6 columns):\n",
      " #   Column             Non-Null Count  Dtype              \n",
      "---  ------             --------------  -----              \n",
      " 0   concept:name       42 non-null     object             \n",
      " 1   time:timestamp     42 non-null     datetime64[ns, UTC]\n",
      " 2   cost:total         42 non-null     int64              \n",
      " 3   org:resource       42 non-null     object             \n",
      " 4   @@index            42 non-null     int64              \n",
      " 5   case:concept:name  42 non-null     object             \n",
      "dtypes: datetime64[ns, UTC](1), int64(2), object(3)\n",
      "memory usage: 2.1+ KB\n",
      "None\n",
      "****************************************************************************************************\n",
      "log list:\n",
      "['register request', Timestamp('2010-12-30 10:02:00+0000', tz='UTC'), 50, 'Pete', 14, '1']\n",
      "['examine thoroughly', Timestamp('2010-12-31 09:06:00+0000', tz='UTC'), 400, 'Sue', 15, '1']\n",
      "['check ticket', Timestamp('2011-01-05 14:12:00+0000', tz='UTC'), 100, 'Mike', 16, '1']\n",
      "['decide', Timestamp('2011-01-06 10:18:00+0000', tz='UTC'), 200, 'Sara', 17, '1']\n",
      "['reject request', Timestamp('2011-01-07 13:24:00+0000', tz='UTC'), 200, 'Pete', 18, '1']\n",
      "['register request', Timestamp('2010-12-30 10:32:00+0000', tz='UTC'), 50, 'Mike', 9, '2']\n",
      "['check ticket', Timestamp('2010-12-30 11:12:00+0000', tz='UTC'), 100, 'Mike', 10, '2']\n",
      "['examine casually', Timestamp('2010-12-30 13:16:00+0000', tz='UTC'), 400, 'Sean', 11, '2']\n",
      "['decide', Timestamp('2011-01-05 10:22:00+0000', tz='UTC'), 200, 'Sara', 12, '2']\n",
      "['pay compensation', Timestamp('2011-01-08 11:05:00+0000', tz='UTC'), 200, 'Ellen', 13, '2']\n",
      "['register request', Timestamp('2010-12-30 13:32:00+0000', tz='UTC'), 50, 'Pete', 0, '3']\n",
      "['examine casually', Timestamp('2010-12-30 14:06:00+0000', tz='UTC'), 400, 'Mike', 1, '3']\n",
      "['check ticket', Timestamp('2010-12-30 15:34:00+0000', tz='UTC'), 100, 'Ellen', 2, '3']\n",
      "['decide', Timestamp('2011-01-06 08:18:00+0000', tz='UTC'), 200, 'Sara', 3, '3']\n",
      "['reinitiate request', Timestamp('2011-01-06 11:18:00+0000', tz='UTC'), 200, 'Sara', 4, '3']\n",
      "['examine thoroughly', Timestamp('2011-01-06 12:06:00+0000', tz='UTC'), 400, 'Sean', 5, '3']\n",
      "['check ticket', Timestamp('2011-01-08 10:43:00+0000', tz='UTC'), 100, 'Pete', 6, '3']\n",
      "['decide', Timestamp('2011-01-09 08:55:00+0000', tz='UTC'), 200, 'Sara', 7, '3']\n",
      "['pay compensation', Timestamp('2011-01-15 09:45:00+0000', tz='UTC'), 200, 'Ellen', 8, '3']\n",
      "['register request', Timestamp('2011-01-06 14:02:00+0000', tz='UTC'), 50, 'Pete', 37, '4']\n",
      "['check ticket', Timestamp('2011-01-07 11:06:00+0000', tz='UTC'), 100, 'Mike', 38, '4']\n",
      "['examine thoroughly', Timestamp('2011-01-08 13:43:00+0000', tz='UTC'), 400, 'Sean', 39, '4']\n",
      "['decide', Timestamp('2011-01-09 11:02:00+0000', tz='UTC'), 200, 'Sara', 40, '4']\n",
      "['reject request', Timestamp('2011-01-12 14:44:00+0000', tz='UTC'), 200, 'Ellen', 41, '4']\n",
      "['register request', Timestamp('2011-01-06 08:02:00+0000', tz='UTC'), 50, 'Ellen', 24, '5']\n",
      "['examine casually', Timestamp('2011-01-07 09:16:00+0000', tz='UTC'), 400, 'Mike', 25, '5']\n",
      "['check ticket', Timestamp('2011-01-08 10:22:00+0000', tz='UTC'), 100, 'Pete', 26, '5']\n",
      "['decide', Timestamp('2011-01-10 12:28:00+0000', tz='UTC'), 200, 'Sara', 27, '5']\n",
      "['reinitiate request', Timestamp('2011-01-11 15:18:00+0000', tz='UTC'), 200, 'Sara', 28, '5']\n",
      "['check ticket', Timestamp('2011-01-14 13:33:00+0000', tz='UTC'), 100, 'Ellen', 29, '5']\n",
      "['examine casually', Timestamp('2011-01-16 14:50:00+0000', tz='UTC'), 400, 'Mike', 30, '5']\n",
      "['decide', Timestamp('2011-01-19 10:18:00+0000', tz='UTC'), 200, 'Sara', 31, '5']\n",
      "['reinitiate request', Timestamp('2011-01-20 11:48:00+0000', tz='UTC'), 200, 'Sara', 32, '5']\n",
      "['examine casually', Timestamp('2011-01-21 08:06:00+0000', tz='UTC'), 400, 'Sue', 33, '5']\n",
      "['check ticket', Timestamp('2011-01-21 10:34:00+0000', tz='UTC'), 100, 'Pete', 34, '5']\n",
      "['decide', Timestamp('2011-01-23 12:12:00+0000', tz='UTC'), 200, 'Sara', 35, '5']\n",
      "['reject request', Timestamp('2011-01-24 13:56:00+0000', tz='UTC'), 200, 'Mike', 36, '5']\n",
      "['register request', Timestamp('2011-01-06 14:02:00+0000', tz='UTC'), 50, 'Mike', 19, '6']\n",
      "['examine casually', Timestamp('2011-01-06 15:06:00+0000', tz='UTC'), 400, 'Ellen', 20, '6']\n",
      "['check ticket', Timestamp('2011-01-07 15:22:00+0000', tz='UTC'), 100, 'Mike', 21, '6']\n",
      "['decide', Timestamp('2011-01-07 15:52:00+0000', tz='UTC'), 200, 'Sara', 22, '6']\n",
      "['pay compensation', Timestamp('2011-01-16 10:47:00+0000', tz='UTC'), 200, 'Mike', 23, '6']\n",
      "****************************************************************************************************\n",
      "trace list:\n",
      "[['register request', Timestamp('2010-12-30 10:02:00+0000', tz='UTC'), 50, 'Pete', 14, '1'], ['register request', Timestamp('2010-12-30 10:32:00+0000', tz='UTC'), 50, 'Mike', 9, '2'], ['register request', Timestamp('2010-12-30 13:32:00+0000', tz='UTC'), 50, 'Pete', 0, '3'], ['register request', Timestamp('2011-01-06 14:02:00+0000', tz='UTC'), 50, 'Pete', 37, '4'], ['register request', Timestamp('2011-01-06 08:02:00+0000', tz='UTC'), 50, 'Ellen', 24, '5'], ['register request', Timestamp('2011-01-06 14:02:00+0000', tz='UTC'), 50, 'Mike', 19, '6']]\n"
     ]
    },
    {
     "name": "stderr",
     "output_type": "stream",
     "text": [
      "/Users/bedong/Workspaces/GitHub/pm4py-test/venv/lib/python3.10/site-packages/pm4py/objects/log/util/dataframe_utils.py:176: UserWarning: Could not infer format, so each element will be parsed individually, falling back to `dateutil`. To ensure parsing is consistent and as-expected, please specify a format.\n",
      "  df[col] = pd.to_datetime(df[col], utc=True)\n",
      "/Users/bedong/Workspaces/GitHub/pm4py-test/venv/lib/python3.10/site-packages/pm4py/objects/log/util/dataframe_utils.py:176: UserWarning: Could not infer format, so each element will be parsed individually, falling back to `dateutil`. To ensure parsing is consistent and as-expected, please specify a format.\n",
      "  df[col] = pd.to_datetime(df[col], utc=True)\n",
      "/Users/bedong/Workspaces/GitHub/pm4py-test/venv/lib/python3.10/site-packages/pm4py/objects/log/util/dataframe_utils.py:176: UserWarning: Could not infer format, so each element will be parsed individually, falling back to `dateutil`. To ensure parsing is consistent and as-expected, please specify a format.\n",
      "  df[col] = pd.to_datetime(df[col], utc=True)\n"
     ]
    }
   ],
   "source": [
    "def import_xes_2(filename):\n",
    "    log = pm4py.read_xes(filename)  # DataFrame\n",
    "    print(log.info())\n",
    "    print('*' * 100)\n",
    "    # convert dataframe to list and do filtering\n",
    "    log_list: list = log.values.tolist()  # log.values is a ndarray\n",
    "    print(\"log list:\")\n",
    "    for i in log_list:\n",
    "        print(i)\n",
    "    print('*' * 100)\n",
    "    trace_list = list(filter(lambda x: x[0] == 'register request', log_list))\n",
    "    print(\"trace list:\")\n",
    "    print(trace_list)\n",
    "\n",
    "\n",
    "import_xes_2(\"../data/running-example.xes\")"
   ],
   "metadata": {
    "collapsed": false,
    "ExecuteTime": {
     "end_time": "2023-10-09T06:03:22.750113Z",
     "start_time": "2023-10-09T06:03:22.728912Z"
    }
   }
  },
  {
   "cell_type": "code",
   "execution_count": null,
   "outputs": [],
   "source": [],
   "metadata": {
    "collapsed": false
   }
  }
 ],
 "metadata": {
  "kernelspec": {
   "display_name": "Python 3",
   "language": "python",
   "name": "python3"
  },
  "language_info": {
   "codemirror_mode": {
    "name": "ipython",
    "version": 2
   },
   "file_extension": ".py",
   "mimetype": "text/x-python",
   "name": "python",
   "nbconvert_exporter": "python",
   "pygments_lexer": "ipython2",
   "version": "2.7.6"
  }
 },
 "nbformat": 4,
 "nbformat_minor": 0
}
